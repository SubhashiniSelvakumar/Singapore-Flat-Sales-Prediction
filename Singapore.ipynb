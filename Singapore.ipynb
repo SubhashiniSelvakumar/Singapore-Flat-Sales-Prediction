{
 "cells": [
  {
   "cell_type": "code",
   "execution_count": 1,
   "metadata": {},
   "outputs": [],
   "source": [
    "import pandas as pd\n",
    "import numpy as np\n",
    "import matplotlib.pyplot as plt\n",
    "import seaborn as sns\n",
    "from scipy import stats\n",
    "from sklearn.linear_model import LinearRegression, LassoCV, RidgeCV, ElasticNet, ElasticNetCV\n",
    "from sklearn.impute import SimpleImputer\n",
    "from sklearn.metrics import mean_squared_error,mean_absolute_error\n",
    "from sklearn.feature_selection import SelectKBest, f_regression, RFE\n",
    "from sklearn.preprocessing import StandardScaler, MinMaxScaler\n",
    "from sklearn.model_selection import train_test_split, cross_val_score, cross_val_predict\n",
    "from sklearn.linear_model import Ridge, Lasso\n",
    "from sklearn.metrics import r2_score\n",
    "import warnings\n",
    "import pickle\n",
    "warnings.filterwarnings('ignore')\n",
    "plt.style.use('seaborn-pastel')\n",
    "pd.set_option('display.max_rows', 200)"
   ]
  },
  {
   "cell_type": "code",
   "execution_count": 28,
   "metadata": {},
   "outputs": [
    {
     "name": "stdout",
     "output_type": "stream",
     "text": [
      "DataFrame 1:\n",
      "     month        town flat_type block        street_name storey_range  \\\n",
      "0  2017-01  ANG MO KIO    2 ROOM   406  ANG MO KIO AVE 10     10 TO 12   \n",
      "1  2017-01  ANG MO KIO    3 ROOM   108   ANG MO KIO AVE 4     01 TO 03   \n",
      "2  2017-01  ANG MO KIO    3 ROOM   602   ANG MO KIO AVE 5     01 TO 03   \n",
      "3  2017-01  ANG MO KIO    3 ROOM   465  ANG MO KIO AVE 10     04 TO 06   \n",
      "4  2017-01  ANG MO KIO    3 ROOM   601   ANG MO KIO AVE 5     01 TO 03   \n",
      "\n",
      "   floor_area_sqm      flat_model  lease_commence_date     remaining_lease  \\\n",
      "0            44.0        Improved                 1979  61 years 04 months   \n",
      "1            67.0  New Generation                 1978  60 years 07 months   \n",
      "2            67.0  New Generation                 1980  62 years 05 months   \n",
      "3            68.0  New Generation                 1980   62 years 01 month   \n",
      "4            67.0  New Generation                 1980  62 years 05 months   \n",
      "\n",
      "   resale_price  \n",
      "0      232000.0  \n",
      "1      250000.0  \n",
      "2      262000.0  \n",
      "3      265000.0  \n",
      "4      265000.0  \n",
      "(168252, 11)\n",
      "\n",
      "DataFrame 2:\n",
      "     month        town flat_type block       street_name storey_range  \\\n",
      "0  1990-01  ANG MO KIO    1 ROOM   309  ANG MO KIO AVE 1     10 TO 12   \n",
      "1  1990-01  ANG MO KIO    1 ROOM   309  ANG MO KIO AVE 1     04 TO 06   \n",
      "2  1990-01  ANG MO KIO    1 ROOM   309  ANG MO KIO AVE 1     10 TO 12   \n",
      "3  1990-01  ANG MO KIO    1 ROOM   309  ANG MO KIO AVE 1     07 TO 09   \n",
      "4  1990-01  ANG MO KIO    3 ROOM   216  ANG MO KIO AVE 1     04 TO 06   \n",
      "\n",
      "   floor_area_sqm      flat_model  lease_commence_date  resale_price  \n",
      "0            31.0        IMPROVED                 1977          9000  \n",
      "1            31.0        IMPROVED                 1977          6000  \n",
      "2            31.0        IMPROVED                 1977          8000  \n",
      "3            31.0        IMPROVED                 1977          6000  \n",
      "4            73.0  NEW GENERATION                 1976         47200  \n",
      "(287196, 10)\n",
      "\n",
      "DataFrame 3:\n",
      "     month        town flat_type block       street_name storey_range  \\\n",
      "0  2000-01  ANG MO KIO    3 ROOM   170  ANG MO KIO AVE 4     07 TO 09   \n",
      "1  2000-01  ANG MO KIO    3 ROOM   174  ANG MO KIO AVE 4     04 TO 06   \n",
      "2  2000-01  ANG MO KIO    3 ROOM   216  ANG MO KIO AVE 1     07 TO 09   \n",
      "3  2000-01  ANG MO KIO    3 ROOM   215  ANG MO KIO AVE 1     07 TO 09   \n",
      "4  2000-01  ANG MO KIO    3 ROOM   218  ANG MO KIO AVE 1     07 TO 09   \n",
      "\n",
      "   floor_area_sqm      flat_model  lease_commence_date  resale_price  \n",
      "0            69.0        Improved                 1986      147000.0  \n",
      "1            61.0        Improved                 1986      144000.0  \n",
      "2            73.0  New Generation                 1976      159000.0  \n",
      "3            73.0  New Generation                 1976      167000.0  \n",
      "4            67.0  New Generation                 1976      163000.0  \n",
      "(369651, 10)\n",
      "\n",
      "DataFrame 4:\n",
      "     month        town flat_type block        street_name storey_range  \\\n",
      "0  2012-03  ANG MO KIO    2 ROOM   172   ANG MO KIO AVE 4     06 TO 10   \n",
      "1  2012-03  ANG MO KIO    2 ROOM   510   ANG MO KIO AVE 8     01 TO 05   \n",
      "2  2012-03  ANG MO KIO    3 ROOM   610   ANG MO KIO AVE 4     06 TO 10   \n",
      "3  2012-03  ANG MO KIO    3 ROOM   474  ANG MO KIO AVE 10     01 TO 05   \n",
      "4  2012-03  ANG MO KIO    3 ROOM   604   ANG MO KIO AVE 5     06 TO 10   \n",
      "\n",
      "   floor_area_sqm      flat_model  lease_commence_date  resale_price  \n",
      "0            45.0        Improved                 1986      250000.0  \n",
      "1            44.0        Improved                 1980      265000.0  \n",
      "2            68.0  New Generation                 1980      315000.0  \n",
      "3            67.0  New Generation                 1984      320000.0  \n",
      "4            67.0  New Generation                 1980      321000.0  \n",
      "(52203, 10)\n",
      "\n",
      "DataFrame 5:\n",
      "     month        town flat_type block        street_name storey_range  \\\n",
      "0  2015-01  ANG MO KIO    3 ROOM   174   ANG MO KIO AVE 4     07 TO 09   \n",
      "1  2015-01  ANG MO KIO    3 ROOM   541  ANG MO KIO AVE 10     01 TO 03   \n",
      "2  2015-01  ANG MO KIO    3 ROOM   163   ANG MO KIO AVE 4     01 TO 03   \n",
      "3  2015-01  ANG MO KIO    3 ROOM   446  ANG MO KIO AVE 10     01 TO 03   \n",
      "4  2015-01  ANG MO KIO    3 ROOM   557  ANG MO KIO AVE 10     07 TO 09   \n",
      "\n",
      "   floor_area_sqm      flat_model  lease_commence_date  remaining_lease  \\\n",
      "0            60.0        Improved                 1986               70   \n",
      "1            68.0  New Generation                 1981               65   \n",
      "2            69.0  New Generation                 1980               64   \n",
      "3            68.0  New Generation                 1979               63   \n",
      "4            68.0  New Generation                 1980               64   \n",
      "\n",
      "   resale_price  \n",
      "0      255000.0  \n",
      "1      275000.0  \n",
      "2      285000.0  \n",
      "3      290000.0  \n",
      "4      290000.0  \n",
      "(37153, 11)\n"
     ]
    }
   ],
   "source": [
    "import pandas as pd\n",
    "\n",
    "# Load datasets\n",
    "df = pd.read_csv(r'C:\\Users\\Pragadheesh\\Downloads\\ResaleflatpricesbasedonregistrationdatefromJan2017onwards.csv')\n",
    "df1 = pd.read_csv(r\"C:\\Users\\Pragadheesh\\Downloads\\ResaleFlatPricesBasedonApprovalDate19901999.csv\")\n",
    "df2 = pd.read_csv(r\"C:\\Users\\Pragadheesh\\Downloads\\ResaleFlatPricesBasedonApprovalDate2000Feb2012.csv\")\n",
    "df3 = pd.read_csv(r\"C:\\Users\\Pragadheesh\\Downloads\\ResaleFlatPricesBasedonRegistrationDateFromMar2012toDec2014.csv\")\n",
    "df4 = pd.read_csv(r\"C:\\Users\\Pragadheesh\\Downloads\\ResaleFlatPricesBasedonRegistrationDateFromJan2015toDec2016.csv\")\n",
    "\n",
    "# Display the DataFrames\n",
    "print(\"DataFrame 1:\")\n",
    "print(df.head())\n",
    "print(df.shape)\n",
    "\n",
    "print(\"\\nDataFrame 2:\")\n",
    "print(df1.head())\n",
    "print(df1.shape)\n",
    "\n",
    "print(\"\\nDataFrame 3:\")\n",
    "print(df2.head())\n",
    "print(df2.shape)\n",
    "\n",
    "print(\"\\nDataFrame 4:\")\n",
    "print(df3.head())\n",
    "print(df3.shape)\n",
    "\n",
    "print(\"\\nDataFrame 5:\")\n",
    "print(df4.head())\n",
    "print(df4.shape)"
   ]
  },
  {
   "cell_type": "code",
   "execution_count": 29,
   "metadata": {},
   "outputs": [
    {
     "name": "stdout",
     "output_type": "stream",
     "text": [
      "\n",
      "DataFrame 1 Summary Statistics:\n",
      "       floor_area_sqm  lease_commence_date  resale_price\n",
      "count   168252.000000        168252.000000  1.682520e+05\n",
      "mean        97.301026          1995.846748  4.905054e+05\n",
      "std         24.020826            13.935071  1.696895e+05\n",
      "min         31.000000          1966.000000  1.400000e+05\n",
      "25%         82.000000          1985.000000  3.650000e+05\n",
      "50%         93.000000          1996.000000  4.600000e+05\n",
      "75%        112.000000          2009.000000  5.819160e+05\n",
      "max        249.000000          2022.000000  1.500000e+06\n"
     ]
    }
   ],
   "source": [
    "# Summary statistics for numerical columns\n",
    "print(\"\\nDataFrame 1 Summary Statistics:\")\n",
    "print(df.describe())"
   ]
  },
  {
   "cell_type": "code",
   "execution_count": 31,
   "metadata": {},
   "outputs": [],
   "source": [
    "# Merging DataFrames (assuming they share common columns)\n",
    "merged_df = pd.concat([df, df1, df2, df3, df4], ignore_index=True)"
   ]
  },
  {
   "cell_type": "code",
   "execution_count": 32,
   "metadata": {},
   "outputs": [],
   "source": [
    "# Reset the index\n",
    "merged_df.reset_index(drop=True, inplace=True)"
   ]
  },
  {
   "cell_type": "code",
   "execution_count": 33,
   "metadata": {},
   "outputs": [
    {
     "name": "stdout",
     "output_type": "stream",
     "text": [
      "Columns: Index(['month', 'town', 'flat_type', 'block', 'street_name', 'storey_range',\n",
      "       'floor_area_sqm', 'flat_model', 'lease_commence_date',\n",
      "       'remaining_lease', 'resale_price'],\n",
      "      dtype='object')\n",
      "\n",
      "DataFrame Head:\n",
      "     month        town flat_type block        street_name storey_range  \\\n",
      "0  2017-01  ANG MO KIO    2 ROOM   406  ANG MO KIO AVE 10     10 TO 12   \n",
      "1  2017-01  ANG MO KIO    3 ROOM   108   ANG MO KIO AVE 4     01 TO 03   \n",
      "2  2017-01  ANG MO KIO    3 ROOM   602   ANG MO KIO AVE 5     01 TO 03   \n",
      "3  2017-01  ANG MO KIO    3 ROOM   465  ANG MO KIO AVE 10     04 TO 06   \n",
      "4  2017-01  ANG MO KIO    3 ROOM   601   ANG MO KIO AVE 5     01 TO 03   \n",
      "\n",
      "   floor_area_sqm      flat_model  lease_commence_date     remaining_lease  \\\n",
      "0            44.0        Improved                 1979  61 years 04 months   \n",
      "1            67.0  New Generation                 1978  60 years 07 months   \n",
      "2            67.0  New Generation                 1980  62 years 05 months   \n",
      "3            68.0  New Generation                 1980   62 years 01 month   \n",
      "4            67.0  New Generation                 1980  62 years 05 months   \n",
      "\n",
      "   resale_price  \n",
      "0      232000.0  \n",
      "1      250000.0  \n",
      "2      262000.0  \n",
      "3      265000.0  \n",
      "4      265000.0  \n"
     ]
    }
   ],
   "source": [
    "# Display columns and head of DataFrame\n",
    "print(\"Columns:\", merged_df.columns)\n",
    "print(\"\\nDataFrame Head:\")\n",
    "print(merged_df.head())"
   ]
  },
  {
   "cell_type": "code",
   "execution_count": 34,
   "metadata": {},
   "outputs": [
    {
     "data": {
      "text/plain": [
       "(914455, 11)"
      ]
     },
     "execution_count": 34,
     "metadata": {},
     "output_type": "execute_result"
    }
   ],
   "source": [
    "merged_df.shape"
   ]
  },
  {
   "cell_type": "code",
   "execution_count": 35,
   "metadata": {},
   "outputs": [],
   "source": [
    "# Assuming 'month' is a datetime column, you can convert it if needed\n",
    "merged_df['month'] = pd.to_datetime(merged_df['month'])"
   ]
  },
  {
   "cell_type": "code",
   "execution_count": 36,
   "metadata": {},
   "outputs": [
    {
     "name": "stdout",
     "output_type": "stream",
     "text": [
      "<class 'pandas.core.frame.DataFrame'>\n",
      "RangeIndex: 914455 entries, 0 to 914454\n",
      "Data columns (total 11 columns):\n",
      " #   Column               Non-Null Count   Dtype         \n",
      "---  ------               --------------   -----         \n",
      " 0   month                914455 non-null  datetime64[ns]\n",
      " 1   town                 914455 non-null  object        \n",
      " 2   flat_type            914455 non-null  object        \n",
      " 3   block                914455 non-null  object        \n",
      " 4   street_name          914455 non-null  object        \n",
      " 5   storey_range         914455 non-null  object        \n",
      " 6   floor_area_sqm       914455 non-null  float64       \n",
      " 7   flat_model           914455 non-null  object        \n",
      " 8   lease_commence_date  914455 non-null  int64         \n",
      " 9   remaining_lease      205405 non-null  object        \n",
      " 10  resale_price         914455 non-null  float64       \n",
      "dtypes: datetime64[ns](1), float64(2), int64(1), object(7)\n",
      "memory usage: 76.7+ MB\n"
     ]
    }
   ],
   "source": [
    "merged_df.info()"
   ]
  },
  {
   "cell_type": "code",
   "execution_count": 37,
   "metadata": {},
   "outputs": [
    {
     "data": {
      "text/plain": [
       "month                       0\n",
       "town                        0\n",
       "flat_type                   0\n",
       "block                       0\n",
       "street_name                 0\n",
       "storey_range                0\n",
       "floor_area_sqm              0\n",
       "flat_model                  0\n",
       "lease_commence_date         0\n",
       "remaining_lease        709050\n",
       "resale_price                0\n",
       "dtype: int64"
      ]
     },
     "execution_count": 37,
     "metadata": {},
     "output_type": "execute_result"
    }
   ],
   "source": [
    "merged_df.isnull().sum()"
   ]
  },
  {
   "cell_type": "code",
   "execution_count": 38,
   "metadata": {},
   "outputs": [
    {
     "data": {
      "text/plain": [
       "month                  0\n",
       "town                   0\n",
       "flat_type              0\n",
       "block                  0\n",
       "street_name            0\n",
       "storey_range           0\n",
       "floor_area_sqm         0\n",
       "flat_model             0\n",
       "lease_commence_date    0\n",
       "remaining_lease        0\n",
       "resale_price           0\n",
       "dtype: int64"
      ]
     },
     "execution_count": 38,
     "metadata": {},
     "output_type": "execute_result"
    }
   ],
   "source": [
    "# droping remaining_lease missing values\n",
    "merged_df = merged_df.dropna()\n",
    "merged_df.isnull().sum()"
   ]
  },
  {
   "cell_type": "code",
   "execution_count": 39,
   "metadata": {},
   "outputs": [],
   "source": [
    "#standardizing all column names to be in snake case\n",
    "merged_df.columns = merged_df.columns.str.lower().str.replace(' ','_')"
   ]
  },
  {
   "cell_type": "code",
   "execution_count": 41,
   "metadata": {},
   "outputs": [],
   "source": [
    "# Convert non-numeric values to numeric\n",
    "merged_df['remaining_lease'] = pd.to_numeric(merged_df['remaining_lease'], errors='coerce')"
   ]
  },
  {
   "cell_type": "code",
   "execution_count": 44,
   "metadata": {},
   "outputs": [
    {
     "name": "stdout",
     "output_type": "stream",
     "text": [
      "Index(['month', 'town', 'flat_type', 'block', 'street_name', 'storey_range',\n",
      "       'floor_area_sqm', 'flat_model', 'lease_commence_date',\n",
      "       'remaining_lease', 'resale_price'],\n",
      "      dtype='object')\n"
     ]
    }
   ],
   "source": [
    "print(merged_df.columns)"
   ]
  },
  {
   "cell_type": "code",
   "execution_count": 46,
   "metadata": {},
   "outputs": [],
   "source": [
    "#dropping block, street_name as there are too many unique values \n",
    "merged_df.drop(['block', 'street_name'], axis = 1, inplace = True)"
   ]
  },
  {
   "cell_type": "code",
   "execution_count": 47,
   "metadata": {},
   "outputs": [
    {
     "name": "stdout",
     "output_type": "stream",
     "text": [
      "town 26\n",
      "flat_type 7\n",
      "storey_range 17\n",
      "flat_model 21\n"
     ]
    }
   ],
   "source": [
    "#checking remaining object dtype columns and the number of values\n",
    "for x in merged_df.select_dtypes(include='object').columns:\n",
    "    print(x, len(merged_df[x].unique()))"
   ]
  },
  {
   "cell_type": "code",
   "execution_count": 54,
   "metadata": {},
   "outputs": [
    {
     "data": {
      "text/plain": [
       "town                   0\n",
       "flat_type              0\n",
       "storey_range           0\n",
       "floor_area_sqm         0\n",
       "flat_model             0\n",
       "lease_commence_date    0\n",
       "remaining_lease        0\n",
       "resale_price           0\n",
       "dtype: int64"
      ]
     },
     "execution_count": 54,
     "metadata": {},
     "output_type": "execute_result"
    }
   ],
   "source": [
    "#finding columns with null values\n",
    "merged_df.isnull().sum().sort_values().tail(8)"
   ]
  },
  {
   "cell_type": "code",
   "execution_count": 58,
   "metadata": {},
   "outputs": [],
   "source": [
    "merged_df = merged_df.drop(['month', 'flat_model','lease_commence_date'], axis=1)"
   ]
  },
  {
   "cell_type": "code",
   "execution_count": 55,
   "metadata": {},
   "outputs": [
    {
     "name": "stdout",
     "output_type": "stream",
     "text": [
      "Index(['town', 'flat_type', 'storey_range', 'floor_area_sqm', 'flat_model',\n",
      "       'lease_commence_date', 'remaining_lease', 'resale_price'],\n",
      "      dtype='object')\n"
     ]
    }
   ],
   "source": [
    "print(merged_df.columns)"
   ]
  },
  {
   "cell_type": "code",
   "execution_count": 60,
   "metadata": {},
   "outputs": [],
   "source": [
    "# Let's rename the column so it will be clearer\n",
    "merged_df = merged_df.rename(columns={'flat_type':'number_of_rooms','storey_range':'storey'})"
   ]
  },
  {
   "cell_type": "code",
   "execution_count": 61,
   "metadata": {},
   "outputs": [],
   "source": [
    "# I assume EXECUTIVE is equal to a 6 room (5 room + 1 study room). MULTI-GENERATION is equal to a 5 room (it served the same purpose).\n",
    "merged_df['number_of_rooms'] = merged_df['number_of_rooms'].str.replace(r'EXECUTIVE','6 ROOM',regex=True)\n",
    "merged_df['number_of_rooms'] = merged_df['number_of_rooms'].str.replace(r'MULTI-GENERATION','5 ROOM',regex=True)\n",
    "merged_df['number_of_rooms'] = merged_df['number_of_rooms'].str.replace(r'ROOM','',regex=True).astype('int')"
   ]
  },
  {
   "cell_type": "code",
   "execution_count": 62,
   "metadata": {},
   "outputs": [],
   "source": [
    "# I assume that rather we use floor range, I the possible highest floor within the unit storey range.\n",
    "merged_df['storey'] = merged_df['storey'].str[-2:].astype('int')"
   ]
  },
  {
   "cell_type": "code",
   "execution_count": 65,
   "metadata": {},
   "outputs": [
    {
     "data": {
      "text/html": [
       "<div>\n",
       "<style scoped>\n",
       "    .dataframe tbody tr th:only-of-type {\n",
       "        vertical-align: middle;\n",
       "    }\n",
       "\n",
       "    .dataframe tbody tr th {\n",
       "        vertical-align: top;\n",
       "    }\n",
       "\n",
       "    .dataframe thead th {\n",
       "        text-align: right;\n",
       "    }\n",
       "</style>\n",
       "<table border=\"1\" class=\"dataframe\">\n",
       "  <thead>\n",
       "    <tr style=\"text-align: right;\">\n",
       "      <th></th>\n",
       "      <th>town</th>\n",
       "      <th>number_of_rooms</th>\n",
       "      <th>storey</th>\n",
       "      <th>floor_area_sqm</th>\n",
       "      <th>remaining_lease</th>\n",
       "      <th>resale_price</th>\n",
       "    </tr>\n",
       "  </thead>\n",
       "  <tbody>\n",
       "    <tr>\n",
       "      <th>0</th>\n",
       "      <td>ANG MO KIO</td>\n",
       "      <td>2</td>\n",
       "      <td>12</td>\n",
       "      <td>44.0</td>\n",
       "      <td>73.913116</td>\n",
       "      <td>232000.0</td>\n",
       "    </tr>\n",
       "    <tr>\n",
       "      <th>1</th>\n",
       "      <td>ANG MO KIO</td>\n",
       "      <td>3</td>\n",
       "      <td>3</td>\n",
       "      <td>67.0</td>\n",
       "      <td>73.913116</td>\n",
       "      <td>250000.0</td>\n",
       "    </tr>\n",
       "    <tr>\n",
       "      <th>2</th>\n",
       "      <td>ANG MO KIO</td>\n",
       "      <td>3</td>\n",
       "      <td>3</td>\n",
       "      <td>67.0</td>\n",
       "      <td>73.913116</td>\n",
       "      <td>262000.0</td>\n",
       "    </tr>\n",
       "    <tr>\n",
       "      <th>3</th>\n",
       "      <td>ANG MO KIO</td>\n",
       "      <td>3</td>\n",
       "      <td>6</td>\n",
       "      <td>68.0</td>\n",
       "      <td>73.913116</td>\n",
       "      <td>265000.0</td>\n",
       "    </tr>\n",
       "    <tr>\n",
       "      <th>4</th>\n",
       "      <td>ANG MO KIO</td>\n",
       "      <td>3</td>\n",
       "      <td>3</td>\n",
       "      <td>67.0</td>\n",
       "      <td>73.913116</td>\n",
       "      <td>265000.0</td>\n",
       "    </tr>\n",
       "  </tbody>\n",
       "</table>\n",
       "</div>"
      ],
      "text/plain": [
       "         town  number_of_rooms  storey  floor_area_sqm  remaining_lease  \\\n",
       "0  ANG MO KIO                2      12            44.0        73.913116   \n",
       "1  ANG MO KIO                3       3            67.0        73.913116   \n",
       "2  ANG MO KIO                3       3            67.0        73.913116   \n",
       "3  ANG MO KIO                3       6            68.0        73.913116   \n",
       "4  ANG MO KIO                3       3            67.0        73.913116   \n",
       "\n",
       "   resale_price  \n",
       "0      232000.0  \n",
       "1      250000.0  \n",
       "2      262000.0  \n",
       "3      265000.0  \n",
       "4      265000.0  "
      ]
     },
     "execution_count": 65,
     "metadata": {},
     "output_type": "execute_result"
    }
   ],
   "source": [
    "merged_df.head()"
   ]
  },
  {
   "cell_type": "code",
   "execution_count": 67,
   "metadata": {},
   "outputs": [
    {
     "name": "stdout",
     "output_type": "stream",
     "text": [
      "<class 'pandas.core.frame.DataFrame'>\n",
      "Index: 205405 entries, 0 to 914454\n",
      "Data columns (total 6 columns):\n",
      " #   Column           Non-Null Count   Dtype  \n",
      "---  ------           --------------   -----  \n",
      " 0   town             205405 non-null  object \n",
      " 1   number_of_rooms  205405 non-null  int32  \n",
      " 2   storey           205405 non-null  int32  \n",
      " 3   floor_area_sqm   205405 non-null  float64\n",
      " 4   remaining_lease  205405 non-null  float64\n",
      " 5   resale_price     205405 non-null  float64\n",
      "dtypes: float64(3), int32(2), object(1)\n",
      "memory usage: 9.4+ MB\n"
     ]
    }
   ],
   "source": [
    "merged_df.info()"
   ]
  },
  {
   "cell_type": "code",
   "execution_count": 68,
   "metadata": {},
   "outputs": [
    {
     "data": {
      "text/plain": [
       "town               0\n",
       "number_of_rooms    0\n",
       "storey             0\n",
       "floor_area_sqm     0\n",
       "remaining_lease    0\n",
       "resale_price       0\n",
       "dtype: int64"
      ]
     },
     "execution_count": 68,
     "metadata": {},
     "output_type": "execute_result"
    }
   ],
   "source": [
    "merged_df.isna().sum()"
   ]
  },
  {
   "cell_type": "code",
   "execution_count": 69,
   "metadata": {},
   "outputs": [
    {
     "data": {
      "text/plain": [
       "<seaborn.axisgrid.FacetGrid at 0x1bf1608b090>"
      ]
     },
     "execution_count": 69,
     "metadata": {},
     "output_type": "execute_result"
    },
    {
     "data": {
      "image/png": "[encoded data removed]",
      "text/plain": [
       "<Figure size 500x500 with 1 Axes>"
      ]
     },
     "metadata": {},
     "output_type": "display_data"
    }
   ],
   "source": [
    "# First, we want to se ethe distribution of HDB resale price in Singapore\n",
    "sns.displot(merged_df['resale_price'])"
   ]
  },
  {
   "cell_type": "code",
   "execution_count": 70,
   "metadata": {},
   "outputs": [
    {
     "data": {
      "text/html": [
       "<div>\n",
       "<style scoped>\n",
       "    .dataframe tbody tr th:only-of-type {\n",
       "        vertical-align: middle;\n",
       "    }\n",
       "\n",
       "    .dataframe tbody tr th {\n",
       "        vertical-align: top;\n",
       "    }\n",
       "\n",
       "    .dataframe thead th {\n",
       "        text-align: right;\n",
       "    }\n",
       "</style>\n",
       "<table border=\"1\" class=\"dataframe\">\n",
       "  <thead>\n",
       "    <tr style=\"text-align: right;\">\n",
       "      <th></th>\n",
       "      <th>number_of_rooms</th>\n",
       "      <th>storey</th>\n",
       "      <th>floor_area_sqm</th>\n",
       "      <th>remaining_lease</th>\n",
       "      <th>resale_price</th>\n",
       "    </tr>\n",
       "  </thead>\n",
       "  <tbody>\n",
       "    <tr>\n",
       "      <th>count</th>\n",
       "      <td>205405.000000</td>\n",
       "      <td>205405.000000</td>\n",
       "      <td>205405.000000</td>\n",
       "      <td>205405.000000</td>\n",
       "      <td>2.054050e+05</td>\n",
       "    </tr>\n",
       "    <tr>\n",
       "      <th>mean</th>\n",
       "      <td>4.124296</td>\n",
       "      <td>9.659400</td>\n",
       "      <td>97.250265</td>\n",
       "      <td>73.913116</td>\n",
       "      <td>4.808027e+05</td>\n",
       "    </tr>\n",
       "    <tr>\n",
       "      <th>std</th>\n",
       "      <td>0.917238</td>\n",
       "      <td>5.850216</td>\n",
       "      <td>24.053218</td>\n",
       "      <td>4.629491</td>\n",
       "      <td>1.653736e+05</td>\n",
       "    </tr>\n",
       "    <tr>\n",
       "      <th>min</th>\n",
       "      <td>1.000000</td>\n",
       "      <td>3.000000</td>\n",
       "      <td>31.000000</td>\n",
       "      <td>48.000000</td>\n",
       "      <td>1.400000e+05</td>\n",
       "    </tr>\n",
       "    <tr>\n",
       "      <th>25%</th>\n",
       "      <td>3.000000</td>\n",
       "      <td>6.000000</td>\n",
       "      <td>82.000000</td>\n",
       "      <td>73.913116</td>\n",
       "      <td>3.600000e+05</td>\n",
       "    </tr>\n",
       "    <tr>\n",
       "      <th>50%</th>\n",
       "      <td>4.000000</td>\n",
       "      <td>9.000000</td>\n",
       "      <td>94.000000</td>\n",
       "      <td>73.913116</td>\n",
       "      <td>4.500000e+05</td>\n",
       "    </tr>\n",
       "    <tr>\n",
       "      <th>75%</th>\n",
       "      <td>5.000000</td>\n",
       "      <td>12.000000</td>\n",
       "      <td>112.000000</td>\n",
       "      <td>73.913116</td>\n",
       "      <td>5.700000e+05</td>\n",
       "    </tr>\n",
       "    <tr>\n",
       "      <th>max</th>\n",
       "      <td>6.000000</td>\n",
       "      <td>51.000000</td>\n",
       "      <td>280.000000</td>\n",
       "      <td>97.000000</td>\n",
       "      <td>1.500000e+06</td>\n",
       "    </tr>\n",
       "  </tbody>\n",
       "</table>\n",
       "</div>"
      ],
      "text/plain": [
       "       number_of_rooms         storey  floor_area_sqm  remaining_lease  \\\n",
       "count    205405.000000  205405.000000   205405.000000    205405.000000   \n",
       "mean          4.124296       9.659400       97.250265        73.913116   \n",
       "std           0.917238       5.850216       24.053218         4.629491   \n",
       "min           1.000000       3.000000       31.000000        48.000000   \n",
       "25%           3.000000       6.000000       82.000000        73.913116   \n",
       "50%           4.000000       9.000000       94.000000        73.913116   \n",
       "75%           5.000000      12.000000      112.000000        73.913116   \n",
       "max           6.000000      51.000000      280.000000        97.000000   \n",
       "\n",
       "       resale_price  \n",
       "count  2.054050e+05  \n",
       "mean   4.808027e+05  \n",
       "std    1.653736e+05  \n",
       "min    1.400000e+05  \n",
       "25%    3.600000e+05  \n",
       "50%    4.500000e+05  \n",
       "75%    5.700000e+05  \n",
       "max    1.500000e+06  "
      ]
     },
     "execution_count": 70,
     "metadata": {},
     "output_type": "execute_result"
    }
   ],
   "source": [
    "# Let see the statistic information of the data\n",
    "merged_df.describe()"
   ]
  },
  {
   "cell_type": "code",
   "execution_count": 71,
   "metadata": {},
   "outputs": [
    {
     "data": {
      "text/plain": [
       "<Axes: >"
      ]
     },
     "execution_count": 71,
     "metadata": {},
     "output_type": "execute_result"
    },
    {
     "data": {
      "image/png": "[encoded data removed]",
      "text/plain": [
       "<Figure size 640x480 with 2 Axes>"
      ]
     },
     "metadata": {},
     "output_type": "display_data"
    }
   ],
   "source": [
    "# Let us see the relation between each parameters\n",
    "sns.heatmap(merged_df.describe(), cmap=\"YlGnBu\")"
   ]
  },
  {
   "cell_type": "code",
   "execution_count": 72,
   "metadata": {},
   "outputs": [
    {
     "data": {
      "text/plain": [
       "array(['ANG MO KIO', 'BEDOK', 'BISHAN', 'BUKIT BATOK', 'BUKIT MERAH',\n",
       "       'BUKIT PANJANG', 'BUKIT TIMAH', 'CENTRAL AREA', 'CHOA CHU KANG',\n",
       "       'CLEMENTI', 'GEYLANG', 'HOUGANG', 'JURONG EAST', 'JURONG WEST',\n",
       "       'KALLANG/WHAMPOA', 'MARINE PARADE', 'PASIR RIS', 'PUNGGOL',\n",
       "       'QUEENSTOWN', 'SEMBAWANG', 'SENGKANG', 'SERANGOON', 'TAMPINES',\n",
       "       'TOA PAYOH', 'WOODLANDS', 'YISHUN'], dtype=object)"
      ]
     },
     "execution_count": 72,
     "metadata": {},
     "output_type": "execute_result"
    }
   ],
   "source": [
    "merged_df['town'].unique()"
   ]
  },
  {
   "cell_type": "code",
   "execution_count": 73,
   "metadata": {},
   "outputs": [],
   "source": [
    "merged_df = merged_df.replace(dict.fromkeys(['SEMBAWANG','SENGKANG','WOODLANDS','YISHUN'], 'NORTH'))\n",
    "merged_df = merged_df.replace(dict.fromkeys(['BUKIT MERAH','BUKIT TIMAH','QUEENSTOWN'], 'SOUTH'))\n",
    "merged_df = merged_df.replace(dict.fromkeys(['BEDOK','GEYLANG','HOUGANG','KALLANG/WHAMPOA','PASIR RIS','PUNGGOL','SERANGOON','TAMPINES'], 'EAST'))\n",
    "merged_df = merged_df.replace(dict.fromkeys(['BUKIT BATOK','BUKIT PANJANG','CHOA CHU KANG','CLEMENTI','JURONG EAST','JURONG WEST'], 'WEST'))\n",
    "merged_df = merged_df.replace(dict.fromkeys(['ANG MO KIO','CENTRAL AREA','BISHAN','MARINE PARADE','TOA PAYOH'], 'CENTRAL'))"
   ]
  },
  {
   "cell_type": "code",
   "execution_count": 74,
   "metadata": {},
   "outputs": [
    {
     "data": {
      "text/plain": [
       "array(['CENTRAL', 'EAST', 'WEST', 'SOUTH', 'NORTH'], dtype=object)"
      ]
     },
     "execution_count": 74,
     "metadata": {},
     "output_type": "execute_result"
    }
   ],
   "source": [
    "# Let's check whether the data replacement was done properly\n",
    "merged_df['town'].unique()"
   ]
  },
  {
   "cell_type": "code",
   "execution_count": 75,
   "metadata": {},
   "outputs": [],
   "source": [
    "merged_df = merged_df.rename(columns={'town':'region'})"
   ]
  },
  {
   "cell_type": "code",
   "execution_count": 76,
   "metadata": {},
   "outputs": [],
   "source": [
    "X = merged_df.iloc[:,:-1].values\n",
    "y = merged_df.iloc[:,-1].values"
   ]
  },
  {
   "cell_type": "code",
   "execution_count": 77,
   "metadata": {},
   "outputs": [],
   "source": [
    "from sklearn.compose import ColumnTransformer\n",
    "from sklearn.preprocessing import OneHotEncoder\n",
    "ct = ColumnTransformer(transformers=[('encoder', OneHotEncoder(), [0])], remainder='passthrough')\n",
    "X = np.array(ct.fit_transform(X))"
   ]
  },
  {
   "cell_type": "code",
   "execution_count": 78,
   "metadata": {},
   "outputs": [
    {
     "data": {
      "text/plain": [
       "array([1.0, 0.0, 0.0, 0.0, 0.0, 3, 3, 67.0, 73.91311603369849],\n",
       "      dtype=object)"
      ]
     },
     "execution_count": 78,
     "metadata": {},
     "output_type": "execute_result"
    }
   ],
   "source": [
    "X[1,:]\n"
   ]
  },
  {
   "cell_type": "code",
   "execution_count": 79,
   "metadata": {},
   "outputs": [],
   "source": [
    "from sklearn.model_selection import train_test_split\n",
    "X_train, X_test, y_train, y_test = train_test_split(X, y, test_size = 0.2)"
   ]
  },
  {
   "cell_type": "code",
   "execution_count": 80,
   "metadata": {},
   "outputs": [
    {
     "data": {
      "text/plain": [
       "0.6093267597643629"
      ]
     },
     "execution_count": 80,
     "metadata": {},
     "output_type": "execute_result"
    }
   ],
   "source": [
    "from sklearn.linear_model import LinearRegression\n",
    "Model = LinearRegression()\n",
    "Model.fit(X_train, y_train)\n",
    "mdl_ypred = Model.predict(X_test)\n",
    "mdl_acc = r2_score(y_test,mdl_ypred)\n",
    "mdl_acc"
   ]
  },
  {
   "cell_type": "code",
   "execution_count": 81,
   "metadata": {},
   "outputs": [
    {
     "name": "stdout",
     "output_type": "stream",
     "text": [
      "The accuracy of polynomial regression with degree of 2 is 0.6589650413445618\n",
      "The RMSE of polynomial regression with degree of 2 is 96406.569853441\n",
      "The accuracy of polynomial regression with degree of 3 is 0.6746619198776822\n",
      "The RMSE of polynomial regression with degree of 3 is 94161.77374611072\n",
      "The accuracy of polynomial regression with degree of 4 is 0.6844956602882568\n",
      "The RMSE of polynomial regression with degree of 4 is 92727.77727989106\n"
     ]
    }
   ],
   "source": [
    "from sklearn.preprocessing import PolynomialFeatures\n",
    "from sklearn.linear_model import LinearRegression\n",
    "# Let's determine the best degree for polynomial\n",
    "for n in range(2,5):\n",
    "    poly_reg = PolynomialFeatures(degree = n)\n",
    "    X_poly = poly_reg.fit_transform(X_train)\n",
    "    mdl = LinearRegression()\n",
    "    mdl.fit(X_poly, y_train)\n",
    "    poly_ypred = mdl.predict(poly_reg.transform(X_test))\n",
    "    poly_acc = r2_score(y_test,poly_ypred)\n",
    "    poly_rmse = np.sqrt(mean_squared_error(y_test,poly_ypred))\n",
    "    print(r'The accuracy of polynomial regression with degree of {} is {}'.format(n,poly_acc))\n",
    "    print(r'The RMSE of polynomial regression with degree of {} is {}'.format(n,poly_rmse))"
   ]
  },
  {
   "cell_type": "code",
   "execution_count": 82,
   "metadata": {},
   "outputs": [
    {
     "data": {
      "text/plain": [
       "0.6093202115779195"
      ]
     },
     "execution_count": 82,
     "metadata": {},
     "output_type": "execute_result"
    }
   ],
   "source": [
    "from sklearn.linear_model import Ridge\n",
    "ridge_r = Ridge()\n",
    "ridge_r.fit(X_train, y_train)\n",
    "ridge_ypred = ridge_r.predict(X_test)\n",
    "ridge_acc = r2_score(y_test,ridge_ypred)\n",
    "ridge_acc"
   ]
  },
  {
   "cell_type": "code",
   "execution_count": 83,
   "metadata": {},
   "outputs": [
    {
     "data": {
      "text/plain": [
       "0.6093201239652525"
      ]
     },
     "execution_count": 83,
     "metadata": {},
     "output_type": "execute_result"
    }
   ],
   "source": [
    "from sklearn.linear_model import Lasso\n",
    "lasso_r = Lasso(max_iter=100000)\n",
    "lasso_r.fit(X_train, y_train)\n",
    "lasso_ypred = lasso_r.predict(X_test)\n",
    "lasso_acc = r2_score(y_test,lasso_ypred)\n",
    "lasso_acc"
   ]
  },
  {
   "cell_type": "code",
   "execution_count": 84,
   "metadata": {},
   "outputs": [
    {
     "data": {
      "text/plain": [
       "0.5389894820474141"
      ]
     },
     "execution_count": 84,
     "metadata": {},
     "output_type": "execute_result"
    }
   ],
   "source": [
    "from sklearn.linear_model import ElasticNet\n",
    "EN = ElasticNet()\n",
    "EN.fit(X_train, y_train)\n",
    "EN_ypred = EN.predict(X_test)\n",
    "EN_acc = r2_score(y_test,EN_ypred)\n",
    "EN_acc"
   ]
  },
  {
   "cell_type": "code",
   "execution_count": 85,
   "metadata": {},
   "outputs": [
    {
     "data": {
      "text/plain": [
       "0.7550459000406017"
      ]
     },
     "execution_count": 85,
     "metadata": {},
     "output_type": "execute_result"
    }
   ],
   "source": [
    "from sklearn.tree import DecisionTreeRegressor\n",
    "tree_reg = DecisionTreeRegressor()\n",
    "tree_reg.fit(X_train, y_train)\n",
    "tree_ypred = tree_reg.predict(X_test)\n",
    "tree_acc = r2_score(y_test,tree_ypred)\n",
    "tree_acc"
   ]
  },
  {
   "cell_type": "code",
   "execution_count": 86,
   "metadata": {},
   "outputs": [
    {
     "data": {
      "text/plain": [
       "0.7582532284106993"
      ]
     },
     "execution_count": 86,
     "metadata": {},
     "output_type": "execute_result"
    }
   ],
   "source": [
    "from sklearn.ensemble import RandomForestRegressor\n",
    "forest_reg = RandomForestRegressor(n_estimators = 10)\n",
    "forest_reg.fit(X_train, y_train)\n",
    "forest_ypred = forest_reg.predict(X_test)\n",
    "forest_acc = r2_score(y_test,forest_ypred)\n",
    "forest_acc"
   ]
  },
  {
   "cell_type": "code",
   "execution_count": null,
   "metadata": {},
   "outputs": [],
   "source": [
    "# Accuracy score for multi linear regression\n",
    "mlr_acc = r2_score(y_test,mlr_ypred)\n",
    "mlr_rmse = np.sqrt(mean_squared_error(y_test,mlr_ypred))\n",
    "# Evaluation for polynomial regression has been calculated in finding the best degree\n",
    "# Evaluation for ridge regression\n",
    "ridge_acc = r2_score(y_test,ridge_ypred)\n",
    "ridge_rmse = np.sqrt(mean_squared_error(y_test,ridge_ypred))\n",
    "# Evaluation for lasso regression\n",
    "lasso_acc = r2_score(y_test,lasso_ypred)\n",
    "lasso_rmse = np.sqrt(mean_squared_error(y_test,lasso_ypred))\n",
    "# Evaluation for elastic net regression\n",
    "EN_acc = r2_score(y_test,EN_ypred)\n",
    "EN_rmse = np.sqrt(mean_squared_error(y_test,EN_ypred))\n",
    "# Evaluation for decision trees regression\n",
    "tree_acc = r2_score(y_test,tree_ypred)\n",
    "tree_rmse = np.sqrt(mean_squared_error(y_test,tree_ypred))\n",
    "# Evaluation for elastic random forest regression\n",
    "forest_acc = r2_score(y_test,forest_ypred)\n",
    "forest_rmse = np.sqrt(mean_squared_error(y_test,forest_ypred))\n",
    "# Let's put it as a list and compare it in a bar chart\n",
    "model_acc_score = [mlr_acc,poly_acc, ridge_acc, lasso_acc, EN_acc, tree_acc, forest_acc]\n",
    "model_rmse = [mlr_rmse, poly_rmse, ridge_rmse, lasso_rmse, EN_rmse, tree_rmse, forest_rmse]\n",
    "model_list = ['Multi Linear', 'Polynomial', 'Ridge', 'Lasso', 'Elastic Net', 'Decision Tree', 'Random Forest']\n",
    "model_result_df = pd.DataFrame(\n",
    "    {'Model': model_list,\n",
    "     'Accuracy score': model_acc_score,\n",
    "     'RMSE': model_rmse\n",
    "    })\n",
    "fig, (ax1, ax2) = plt.subplots(1, 2, figsize=(15,10))\n",
    "sns.barplot(data=model_result_df, x='Model', y='Accuracy score', ax=ax1,order=model_result_df.sort_values('Accuracy score',ascending = False).Model).set_title(\"Comparison of accuracy score between ML regression models\")\n",
    "ax1 = ax1.set_xticklabels(ax1.get_xticklabels(), rotation=90)\n",
    "sns.barplot(data=model_result_df, x='Model', y='RMSE', ax=ax2, order=model_result_df.sort_values('RMSE').Model).set_title(\"Comparison of RMSE between ML regression models\")\n",
    "ax2 = ax2.set_xticklabels(ax2.get_xticklabels(), rotation=90)"
   ]
  },
  {
   "cell_type": "code",
   "execution_count": null,
   "metadata": {},
   "outputs": [],
   "source": [
    "# We know that after One Hot Encoding, the value of Central, East, North, South, and West is one at column 1,2,3,4, and 5, respectively (following alphabetical order).\n",
    "area = ['Central','East','North','South','West']\n",
    "pred_price_central = forest_r.predict([[1.0, 0.0, 0.0, 0.0, 0.0, 4, 9, 95.0, 75]])[0]\n",
    "pred_price_east = forest_r.predict([[0.0, 1.0, 0.0, 0.0, 0.0, 4, 9, 95.0, 75]])[0]\n",
    "pred_price_north = forest_r.predict([[0.0, 0.0, 1.0, 0.0, 0.0, 4, 9, 95.0, 75]])[0]\n",
    "pred_price_south = forest_r.predict([[0.0, 0.0, 0.0, 1.0, 0.0, 4, 9, 95.0, 75]])[0]\n",
    "pred_price_west = forest_r.predict([[0.0, 0.0, 0.0, 0.0, 1.0, 4, 9, 95.0, 75]])[0]\n",
    "resale_price = [pred_price_central,pred_price_east,pred_price_north,pred_price_south,pred_price_west]\n",
    "predict_df = pd.DataFrame(list(zip(area, resale_price)),\n",
    "              columns=['Area','Predicted HDB price (SGD)'])\n",
    "predict_df.round()"
   ]
  }
 ],
 "metadata": {
  "kernelspec": {
   "display_name": "Python 3",
   "language": "python",
   "name": "python3"
  },
  "language_info": {
   "codemirror_mode": {
    "name": "ipython",
    "version": 3
   },
   "file_extension": ".py",
   "mimetype": "text/x-python",
   "name": "python",
   "nbconvert_exporter": "python",
   "pygments_lexer": "ipython3",
   "version": "3.11.5"
  }
 },
 "nbformat": 4,
 "nbformat_minor": 2
}
